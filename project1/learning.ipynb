{
 "cells": [
  {
   "cell_type": "code",
   "execution_count": 1,
   "id": "ca5e1f67-36f3-4c5e-8bb5-bcadffb9b78f",
   "metadata": {},
   "outputs": [],
   "source": [
    "from __future__ import absolute_import, division, print_function, unicode_literals\n",
    "\n",
    "import nyaset\n",
    "import torch\n",
    "import torch.nn as nn\n",
    "import torch.nn.functional as F\n",
    "import torch.optim as optim\n",
    "from torch.optim import lr_scheduler\n",
    "import torch.utils.data as data\n",
    "import numpy as np\n",
    "import torchvision\n",
    "from torchvision import datasets,models,transforms\n",
    "import matplotlib.pyplot as plt\n",
    "import time\n",
    "import sys,os\n",
    "sys.path.append(os.pardir)\n",
    "import copy"
   ]
  },
  {
   "cell_type": "code",
   "execution_count": 2,
   "id": "069cdcc1-201a-49a5-b698-33a234cb5208",
   "metadata": {
    "scrolled": true
   },
   "outputs": [
    {
     "name": "stdout",
     "output_type": "stream",
     "text": [
      "succesfully loaded NyasetData/0000000.txt\n",
      "succesfully loaded NyasetData/0000001.txt\n",
      "succesfully loaded NyasetData/0000002.txt\n",
      "succesfully loaded NyasetData/0000003.txt\n",
      "succesfully loaded NyasetData/0000004.txt\n",
      "succesfully loaded NyasetData/0000005.txt\n",
      "succesfully loaded NyasetData/0000006.txt\n",
      "succesfully loaded NyasetData/0000007.txt\n",
      "succesfully loaded NyasetData/0000008.txt\n",
      "succesfully loaded NyasetData/0000009.txt\n",
      "succesfully loaded NyasetData/0000010.txt\n",
      "succesfully loaded NyasetData/0000011.txt\n",
      "succesfully loaded NyasetData/0000012.txt\n",
      "succesfully loaded NyasetData/0000013.txt\n",
      "succesfully loaded NyasetData/0000014.txt\n",
      "succesfully loaded NyasetData/0000015.txt\n",
      "succesfully loaded NyasetData/0000016.txt\n",
      "succesfully loaded NyasetData/0000017.txt\n",
      "succesfully loaded NyasetData/0000018.txt\n",
      "succesfully loaded NyasetData/0000019.txt\n"
     ]
    }
   ],
   "source": [
    "x_train,y_train = nyaset.load()"
   ]
  },
  {
   "cell_type": "code",
   "execution_count": 3,
   "id": "2904a90d-7383-4239-bbd3-b0d4c4023e6d",
   "metadata": {},
   "outputs": [],
   "source": [
    "y_train = y_train.reshape(-1,64)"
   ]
  },
  {
   "cell_type": "code",
   "execution_count": 4,
   "id": "51931cff-7a59-486e-b1fa-7c31208018ff",
   "metadata": {},
   "outputs": [],
   "source": [
    "x_train = torch.tensor(x_train,dtype=torch.float32)\n",
    "y_train = torch.tensor(y_train,dtype=torch.float32)"
   ]
  },
  {
   "cell_type": "code",
   "execution_count": 5,
   "id": "e0291487-38b0-4a51-ad3c-8e720c03cd4e",
   "metadata": {},
   "outputs": [
    {
     "name": "stdout",
     "output_type": "stream",
     "text": [
      "torch.Size([1199046, 2, 8, 8])\n",
      "torch.Size([1199046, 64])\n"
     ]
    }
   ],
   "source": [
    "print(x_train.shape)\n",
    "print(y_train.shape)"
   ]
  },
  {
   "cell_type": "code",
   "execution_count": 6,
   "id": "eb7bc19e-33cc-4d38-aa08-2bb29a623a77",
   "metadata": {},
   "outputs": [],
   "source": [
    "device = 'cpu'"
   ]
  },
  {
   "cell_type": "code",
   "execution_count": 7,
   "id": "eb989bd7-ceb9-41b8-8d9e-18076ab83f4e",
   "metadata": {},
   "outputs": [],
   "source": [
    "class Bias(nn.Module):\n",
    "    def __init__(self, input_shape):\n",
    "        super(Bias, self).__init__()\n",
    "        self.W = nn.Parameter(torch.zeros(input_shape[1:]))\n",
    "\n",
    "    def forward(self, inputs):\n",
    "        return inputs + self.W\n",
    "\n",
    "class SimpleCNN(nn.Module):\n",
    "    def __init__(self):\n",
    "        super(SimpleCNN, self).__init__()\n",
    "        self.conv_layers = nn.Sequential(\n",
    "            nn.Conv2d(2, 12, kernel_size=3, padding=1),\n",
    "            nn.ReLU(),\n",
    "            nn.Conv2d(12, 50, kernel_size=3, padding=1),\n",
    "            nn.ReLU(),\n",
    "            nn.Conv2d(50, 128, kernel_size=3, padding=1),\n",
    "            nn.ReLU(),\n",
    "            nn.Conv2d(128, 128, kernel_size=3, padding=1),\n",
    "            nn.ReLU(),\n",
    "            nn.Conv2d(128, 128, kernel_size=3, padding=1),\n",
    "            nn.ReLU(),\n",
    "            nn.Conv2d(128, 128, kernel_size=3, padding=1),\n",
    "            nn.ReLU(),\n",
    "            nn.Conv2d(128, 128, kernel_size=3, padding=1),\n",
    "            nn.ReLU(),\n",
    "            nn.Conv2d(128, 128, kernel_size=3, padding=1),\n",
    "            nn.ReLU(),\n",
    "            nn.Conv2d(128, 50, kernel_size=3, padding=1),\n",
    "            nn.ReLU(),\n",
    "            nn.Conv2d(50, 12, kernel_size=3, padding=1),\n",
    "            nn.ReLU(),\n",
    "            nn.Conv2d(12, 8, kernel_size=3, padding=1),\n",
    "            nn.ReLU(),\n",
    "            nn.Conv2d(8, 1, kernel_size=1, bias=True),\n",
    "        )\n",
    "        self.flatten = nn.Flatten()\n",
    "        self.bias = Bias((1, 64))\n",
    "        self.softmax = nn.Softmax(dim=1)\n",
    "    \n",
    "    def forward(self, x):\n",
    "        x = self.conv_layers(x)\n",
    "        x = self.flatten(x)\n",
    "        x = self.bias(x)\n",
    "        x = self.softmax(x)\n",
    "        return x"
   ]
  },
  {
   "cell_type": "code",
   "execution_count": 8,
   "id": "8e37d11c-20aa-4944-8c18-e7174e83db5e",
   "metadata": {
    "scrolled": true
   },
   "outputs": [
    {
     "name": "stdout",
     "output_type": "stream",
     "text": [
      "tensor([[0.0157, 0.0156, 0.0156,  ..., 0.0156, 0.0157, 0.0157],\n",
      "        [0.0157, 0.0156, 0.0156,  ..., 0.0156, 0.0157, 0.0157],\n",
      "        [0.0157, 0.0156, 0.0156,  ..., 0.0156, 0.0157, 0.0157],\n",
      "        ...,\n",
      "        [0.0157, 0.0156, 0.0156,  ..., 0.0157, 0.0157, 0.0157],\n",
      "        [0.0157, 0.0156, 0.0156,  ..., 0.0157, 0.0157, 0.0157],\n",
      "        [0.0157, 0.0156, 0.0156,  ..., 0.0157, 0.0157, 0.0157]],\n",
      "       grad_fn=<SoftmaxBackward0>)\n"
     ]
    }
   ],
   "source": [
    "model = SimpleCNN()\n",
    "# Assuming input has shape (batch_size, 2, 8, 8)\n",
    "input_tensor = torch.randn(64,2, 8, 8)\n",
    "output = model(input_tensor)\n",
    "print(output)"
   ]
  },
  {
   "cell_type": "code",
   "execution_count": 9,
   "id": "1114309f-c286-4d49-83a9-43e5c0bd8603",
   "metadata": {},
   "outputs": [],
   "source": [
    "loss_fn = nn.CrossEntropyLoss()\n",
    "optimizer = torch.optim.SGD(model.parameters(), lr=1e-3)\n",
    "\n",
    "batch_size = 64\n",
    "rng = np.random.default_rng()"
   ]
  },
  {
   "cell_type": "code",
   "execution_count": 10,
   "id": "00619501-9050-44ad-a0d5-23833395e975",
   "metadata": {},
   "outputs": [],
   "source": [
    "def train(model, loss_fn, optimizer,x_train,y_train):\n",
    "    train_size = len(x_train)\n",
    "    for i in range(train_size//batch_size):\n",
    "        indices = rng.integers(train_size, size=batch_size)\n",
    "        X, y = x_train[indices], y_train[indices]\n",
    "        X, y = X.to(device), y.to(device)\n",
    "        \n",
    "        # 損失誤差を計算\n",
    "        pred = model(X)\n",
    "        loss = loss_fn(pred, y)\n",
    "        \n",
    "        # バックプロパゲーション\n",
    "        optimizer.zero_grad()\n",
    "        loss.backward()\n",
    "        optimizer.step()\n",
    "\n",
    "        if i % batch_size == 0:\n",
    "            loss, current = loss.item(), i * len(X)\n",
    "            print(f\"loss: {loss:>7f}  [{current:>5d}/{train_size:>5d}]\")"
   ]
  },
  {
   "cell_type": "code",
   "execution_count": 11,
   "id": "caf5fdfe-214a-4037-9a98-51a06dadf7b6",
   "metadata": {},
   "outputs": [
    {
     "data": {
      "text/plain": [
       "tensor([[[0., 0., 0., 0., 0., 0., 0., 0.],\n",
       "         [0., 0., 0., 0., 0., 0., 0., 0.],\n",
       "         [0., 0., 0., 0., 0., 0., 0., 0.],\n",
       "         [0., 0., 0., 1., 0., 0., 0., 0.],\n",
       "         [0., 0., 0., 0., 0., 0., 0., 0.],\n",
       "         [0., 0., 0., 0., 0., 0., 0., 0.],\n",
       "         [0., 0., 0., 0., 0., 0., 0., 0.],\n",
       "         [0., 0., 0., 0., 0., 0., 0., 0.]],\n",
       "\n",
       "        [[0., 0., 0., 0., 0., 0., 0., 0.],\n",
       "         [0., 0., 0., 0., 0., 0., 0., 0.],\n",
       "         [0., 0., 0., 0., 0., 0., 0., 0.],\n",
       "         [0., 0., 0., 0., 1., 0., 0., 0.],\n",
       "         [0., 0., 0., 1., 1., 1., 0., 0.],\n",
       "         [0., 0., 0., 0., 0., 0., 0., 0.],\n",
       "         [0., 0., 0., 0., 0., 0., 0., 0.],\n",
       "         [0., 0., 0., 0., 0., 0., 0., 0.]]])"
      ]
     },
     "execution_count": 11,
     "metadata": {},
     "output_type": "execute_result"
    }
   ],
   "source": [
    "x_train[1]"
   ]
  },
  {
   "cell_type": "code",
   "execution_count": null,
   "id": "1ba72778-42d1-4694-a009-3ca973b029aa",
   "metadata": {},
   "outputs": [
    {
     "name": "stdout",
     "output_type": "stream",
     "text": [
      "loss: 4.158885  [    0/1199046]\n",
      "loss: 4.158882  [ 4096/1199046]\n",
      "loss: 4.158883  [ 8192/1199046]\n",
      "loss: 4.158880  [12288/1199046]\n",
      "loss: 4.158884  [16384/1199046]\n",
      "loss: 4.158883  [20480/1199046]\n",
      "loss: 4.158882  [24576/1199046]\n",
      "loss: 4.158880  [28672/1199046]\n",
      "loss: 4.158879  [32768/1199046]\n",
      "loss: 4.158882  [36864/1199046]\n",
      "loss: 4.158884  [40960/1199046]\n",
      "loss: 4.158884  [45056/1199046]\n",
      "loss: 4.158881  [49152/1199046]\n",
      "loss: 4.158883  [53248/1199046]\n",
      "loss: 4.158883  [57344/1199046]\n",
      "loss: 4.158881  [61440/1199046]\n",
      "loss: 4.158880  [65536/1199046]\n",
      "loss: 4.158882  [69632/1199046]\n",
      "loss: 4.158881  [73728/1199046]\n",
      "loss: 4.158881  [77824/1199046]\n",
      "loss: 4.158881  [81920/1199046]\n",
      "loss: 4.158885  [86016/1199046]\n",
      "loss: 4.158885  [90112/1199046]\n",
      "loss: 4.158883  [94208/1199046]\n",
      "loss: 4.158882  [98304/1199046]\n",
      "loss: 4.158883  [102400/1199046]\n",
      "loss: 4.158885  [106496/1199046]\n",
      "loss: 4.158880  [110592/1199046]\n",
      "loss: 4.158884  [114688/1199046]\n",
      "loss: 4.158885  [118784/1199046]\n",
      "loss: 4.158879  [122880/1199046]\n",
      "loss: 4.158879  [126976/1199046]\n",
      "loss: 4.158880  [131072/1199046]\n",
      "loss: 4.158884  [135168/1199046]\n",
      "loss: 4.158878  [139264/1199046]\n",
      "loss: 4.158884  [143360/1199046]\n",
      "loss: 4.158881  [147456/1199046]\n",
      "loss: 4.158879  [151552/1199046]\n",
      "loss: 4.158882  [155648/1199046]\n",
      "loss: 4.158880  [159744/1199046]\n",
      "loss: 4.158885  [163840/1199046]\n",
      "loss: 4.158878  [167936/1199046]\n",
      "loss: 4.158882  [172032/1199046]\n"
     ]
    }
   ],
   "source": [
    "train(model,loss_fn,optimizer,x_train,y_train)"
   ]
  },
  {
   "cell_type": "code",
   "execution_count": null,
   "id": "c62c9a36-f105-4567-a77e-d44316b50a2c",
   "metadata": {},
   "outputs": [],
   "source": []
  }
 ],
 "metadata": {
  "kernelspec": {
   "display_name": "Python 3 (ipykernel)",
   "language": "python",
   "name": "python3"
  },
  "language_info": {
   "codemirror_mode": {
    "name": "ipython",
    "version": 3
   },
   "file_extension": ".py",
   "mimetype": "text/x-python",
   "name": "python",
   "nbconvert_exporter": "python",
   "pygments_lexer": "ipython3",
   "version": "3.8.17"
  }
 },
 "nbformat": 4,
 "nbformat_minor": 5
}
