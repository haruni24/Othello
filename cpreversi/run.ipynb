{
 "cells": [
  {
   "cell_type": "code",
   "execution_count": 1,
   "metadata": {},
   "outputs": [
    {
     "name": "stdout",
     "output_type": "stream",
     "text": [
      "Compiling reversi.pyx because it changed.\n",
      "[1/1] Cythonizing reversi.pyx\n",
      "/Users/haruni20/.pyenv/versions/3.11.3/lib/python3.11/site-packages/Cython/Compiler/Main.py:381: FutureWarning: Cython directive 'language_level' not set, using '3str' for now (Py3). This has changed from earlier releases! File: /Users/haruni20/Desktop/BoardGames/Othello/cpreversi/reversi.pyx\n",
      "  tree = Parsing.p_module(s, pxd, full_module_name)\n",
      "warning: reversi.pyx:42:4: Unreachable code\n",
      "\n",
      "Error compiling Cython file:\n",
      "------------------------------------------------------------\n",
      "...\n",
      "        int x, y\n",
      "        int turn\n",
      "    x, y = move[0], move[1]\n",
      "    turn = self.turn\n",
      "    cboard = <int*> board.data\n",
      "    return is_legal(cboard, x, y, turn)\n",
      "                    ^\n",
      "------------------------------------------------------------\n",
      "\n",
      "reversi.pyx:40:20: Cannot convert 'int *' to Python object\n",
      "Traceback (most recent call last):\n",
      "  File \"/Users/haruni20/Desktop/BoardGames/Othello/cpreversi/setup.py\", line 6, in <module>\n",
      "    setup(name=\"reversi_out\", ext_modules=cythonize([ext]))\n",
      "                                          ^^^^^^^^^^^^^^^^\n",
      "  File \"/Users/haruni20/.pyenv/versions/3.11.3/lib/python3.11/site-packages/Cython/Build/Dependencies.py\", line 1154, in cythonize\n",
      "    cythonize_one(*args)\n",
      "  File \"/Users/haruni20/.pyenv/versions/3.11.3/lib/python3.11/site-packages/Cython/Build/Dependencies.py\", line 1321, in cythonize_one\n",
      "    raise CompileError(None, pyx_file)\n",
      "Cython.Compiler.Errors.CompileError: reversi.pyx\n"
     ]
    }
   ],
   "source": [
    "!python setup.py build_ext --inplace"
   ]
  },
  {
   "cell_type": "code",
   "execution_count": null,
   "metadata": {},
   "outputs": [],
   "source": []
  }
 ],
 "metadata": {
  "kernelspec": {
   "display_name": "3.11.3",
   "language": "python",
   "name": "python3"
  },
  "language_info": {
   "codemirror_mode": {
    "name": "ipython",
    "version": 3
   },
   "file_extension": ".py",
   "mimetype": "text/x-python",
   "name": "python",
   "nbconvert_exporter": "python",
   "pygments_lexer": "ipython3",
   "version": "3.11.3"
  }
 },
 "nbformat": 4,
 "nbformat_minor": 2
}
