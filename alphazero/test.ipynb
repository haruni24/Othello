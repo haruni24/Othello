{
 "cells": [
  {
   "cell_type": "code",
   "execution_count": 68,
   "metadata": {},
   "outputs": [
    {
     "data": {
      "text/plain": [
       "<module 'MCTS' from '/Users/haruni20/Desktop/BoardGames/Othello/alphazero/MCTS.py'>"
      ]
     },
     "execution_count": 68,
     "metadata": {},
     "output_type": "execute_result"
    }
   ],
   "source": [
    "import sys,os\n",
    "sys.path.append(os.pardir)\n",
    "from copy import deepcopy\n",
    "import reversi.reversi as rev\n",
    "import numpy as np\n",
    "import torch\n",
    "import torch.nn as nn\n",
    "import json\n",
    "\n",
    "import MCTS as M\n",
    "\n",
    "import importlib\n",
    "\n",
    "# モジュールの変更を反映\n",
    "importlib.reload(rev)\n",
    "importlib.reload(M)"
   ]
  },
  {
   "cell_type": "code",
   "execution_count": 69,
   "metadata": {},
   "outputs": [],
   "source": [
    "board = rev.Board()\n",
    "MCTS = M.MCTS()"
   ]
  },
  {
   "cell_type": "code",
   "execution_count": 96,
   "metadata": {},
   "outputs": [
    {
     "name": "stdout",
     "output_type": "stream",
     "text": [
      "[[ 0  0  0  0  0  0  0  0]\n",
      " [ 0  0  0  0  0  0  1  0]\n",
      " [ 0  0  0  0  0  1  0  0]\n",
      " [ 0 -1 -1 -1  1  0  0  0]\n",
      " [ 0  0  0 -1  1  1  1  1]\n",
      " [ 0 -1  0  1  0  1  0  0]\n",
      " [ 0  0 -1 -1  0  1  0  0]\n",
      " [ 0  0  0 -1  0  0  0  0]]\n"
     ]
    }
   ],
   "source": [
    "print(board)"
   ]
  },
  {
   "cell_type": "code",
   "execution_count": 95,
   "metadata": {},
   "outputs": [],
   "source": [
    "board.push(MCTS.search(board, 50))"
   ]
  },
  {
   "cell_type": "code",
   "execution_count": null,
   "metadata": {},
   "outputs": [],
   "source": [
    "board.reset()\n",
    "while board.end==False:\n",
    "    if board.turn==rev.BLACK:\n",
    "        board.push(MCTS.search(board, 100))\n",
    "    else:\n",
    "        board.push(np.random.choice(board.legal_moves))\n",
    "    print(board)"
   ]
  },
  {
   "cell_type": "code",
   "execution_count": 25,
   "metadata": {},
   "outputs": [],
   "source": [
    "a = np.array([1,5,5,5,3,2,1])"
   ]
  },
  {
   "cell_type": "code",
   "execution_count": 31,
   "metadata": {},
   "outputs": [
    {
     "data": {
      "text/plain": [
       "6"
      ]
     },
     "execution_count": 31,
     "metadata": {},
     "output_type": "execute_result"
    }
   ],
   "source": [
    "np.random.choice(np.argwhere(a==min(a)).flatten())"
   ]
  },
  {
   "cell_type": "code",
   "execution_count": 15,
   "metadata": {},
   "outputs": [],
   "source": [
    "for i in range(46):\n",
    "    del a[chr(i+65)]"
   ]
  },
  {
   "cell_type": "code",
   "execution_count": 16,
   "metadata": {},
   "outputs": [
    {
     "data": {
      "text/plain": [
       "{'aiueo': 1, 'kakikukeko': 2, 'aiueao': 0}"
      ]
     },
     "execution_count": 16,
     "metadata": {},
     "output_type": "execute_result"
    }
   ],
   "source": [
    "a"
   ]
  },
  {
   "cell_type": "code",
   "execution_count": null,
   "metadata": {},
   "outputs": [],
   "source": []
  }
 ],
 "metadata": {
  "kernelspec": {
   "display_name": "3.11.3",
   "language": "python",
   "name": "python3"
  },
  "language_info": {
   "codemirror_mode": {
    "name": "ipython",
    "version": 3
   },
   "file_extension": ".py",
   "mimetype": "text/x-python",
   "name": "python",
   "nbconvert_exporter": "python",
   "pygments_lexer": "ipython3",
   "version": "3.11.3"
  }
 },
 "nbformat": 4,
 "nbformat_minor": 2
}
